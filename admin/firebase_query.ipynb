{
 "cells": [
  {
   "cell_type": "code",
   "execution_count": 12,
   "metadata": {},
   "outputs": [],
   "source": [
    "import pandas as pd\n",
    "import firebase_admin\n",
    "from firebase_admin import credentials\n",
    "from firebase_admin import db\n",
    "\n",
    "df = pd.read_csv(r\"C:\\Users\\Loaner\\Desktop\\cfp\\phlask-admin\\admin\\Contributors.csv\")\n",
    "df\n",
    "\n",
    "df.columns = df.iloc[0]\n",
    "df\n",
    "# drop the first row\n",
    "df = df.drop(df.index[0])\n",
    "df\n",
    "\n",
    "# for every nan value, replace with \"\"\n",
    "df = df.fillna(\"Unsure\")\n",
    "\n",
    "df_dict = df.set_index('Username').T.to_dict('dict')\n",
    "df_dict\n",
    "\n",
    "\n",
    "import json\n",
    "json = json.dumps(df_dict)\n",
    "f = open(\"contributors.json\",\"w\")\n",
    "f.write(json)\n",
    "f.close()\n"
   ]
  }
 ],
 "metadata": {
  "kernelspec": {
   "display_name": "Python 3.10.6 ('phlask')",
   "language": "python",
   "name": "python3"
  },
  "language_info": {
   "codemirror_mode": {
    "name": "ipython",
    "version": 3
   },
   "file_extension": ".py",
   "mimetype": "text/x-python",
   "name": "python",
   "nbconvert_exporter": "python",
   "pygments_lexer": "ipython3",
   "version": "3.10.6"
  },
  "orig_nbformat": 4,
  "vscode": {
   "interpreter": {
    "hash": "e7463ec913e39af674c2ba938c187bebad3099f9057f09c4ebe640946fe8f42e"
   }
  }
 },
 "nbformat": 4,
 "nbformat_minor": 2
}
